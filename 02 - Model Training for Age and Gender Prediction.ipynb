{
 "cells": [
  {
   "cell_type": "markdown",
   "id": "e072bc09",
   "metadata": {},
   "source": [
    "# Classification and Regression using XGBoost"
   ]
  },
  {
   "cell_type": "markdown",
   "id": "9432abf9",
   "metadata": {},
   "source": [
    "#### Make Imports"
   ]
  },
  {
   "cell_type": "code",
   "execution_count": 17,
   "id": "ba3d1819",
   "metadata": {},
   "outputs": [],
   "source": [
    "from sklearn.model_selection import RandomizedSearchCV\n",
    "import numpy as np\n",
    "import xgboost as xgb\n",
    "\n",
    "from sklearn.model_selection import train_test_split\n",
    "from sklearn.metrics import balanced_accuracy_score, roc_auc_score, make_scorer\n",
    "from sklearn.model_selection import GridSearchCV\n",
    "from sklearn.metrics import confusion_matrix\n",
    "from sklearn.metrics import plot_confusion_matrix"
   ]
  },
  {
   "cell_type": "markdown",
   "id": "fc44ab96",
   "metadata": {},
   "source": [
    "#### Load Numpy Data for Features and Labels"
   ]
  },
  {
   "cell_type": "code",
   "execution_count": 2,
   "id": "b1d745af",
   "metadata": {},
   "outputs": [],
   "source": [
    "from numpy import save, load\n",
    "\n",
    "X = load('numpy_data/feature.npy')\n",
    "y_sex = load('numpy_data/y_sex.npy')\n",
    "y_age = load('numpy_data/y_age.npy')"
   ]
  },
  {
   "cell_type": "code",
   "execution_count": 3,
   "id": "6cf8c295",
   "metadata": {},
   "outputs": [
    {
     "data": {
      "text/plain": [
       "((4524, 1, 5603), (4524,), (4524,))"
      ]
     },
     "execution_count": 3,
     "metadata": {},
     "output_type": "execute_result"
    }
   ],
   "source": [
    "X.shape, y_sex.shape, y_age.shape"
   ]
  },
  {
   "cell_type": "markdown",
   "id": "bfc48878",
   "metadata": {},
   "source": [
    "Reshape X to 1D array"
   ]
  },
  {
   "cell_type": "code",
   "execution_count": 4,
   "id": "726033dc",
   "metadata": {},
   "outputs": [],
   "source": [
    "# mfcc = 13\n",
    "# 10 second audio = 431 cols\n",
    "\n",
    "input_size = 13*431\n",
    "X = X.reshape(4524, input_size)"
   ]
  },
  {
   "cell_type": "markdown",
   "id": "4787da0b",
   "metadata": {},
   "source": [
    "# Split Dataset for Gender"
   ]
  },
  {
   "cell_type": "code",
   "execution_count": 5,
   "id": "d4d7628e",
   "metadata": {},
   "outputs": [],
   "source": [
    "X_train, X_test, y_train, y_test = train_test_split(X, y_sex, random_state=42, stratify=y_sex)"
   ]
  },
  {
   "cell_type": "markdown",
   "id": "cbe47baa",
   "metadata": {},
   "source": [
    "### Gender Classification Model"
   ]
  },
  {
   "cell_type": "code",
   "execution_count": 6,
   "id": "c0382d8a",
   "metadata": {},
   "outputs": [],
   "source": [
    "classifier = xgb.XGBClassifier(base_score=0.5, booster='gbtree', colsample_bylevel=1,\n",
    "              colsample_bynode=1, colsample_bytree=0.3, gamma=0.1,\n",
    "              learning_rate=0.1, max_delta_step=0, max_depth=15,\n",
    "              min_child_weight=5, n_estimators=100, n_jobs=1,\n",
    "              nthread=None, objective='binary:logistic', random_state=0,\n",
    "              reg_alpha=0, reg_lambda=1, scale_pos_weight=1, seed=None,\n",
    "              silent=None, subsample=1, verbosity=1, use_label_encoder=False, eval_metric='aucpr')"
   ]
  },
  {
   "cell_type": "markdown",
   "id": "4d8ed048",
   "metadata": {},
   "source": [
    "#### Train Gender Classifier"
   ]
  },
  {
   "cell_type": "code",
   "execution_count": 7,
   "id": "c43f3571",
   "metadata": {
    "scrolled": true
   },
   "outputs": [
    {
     "name": "stdout",
     "output_type": "stream",
     "text": [
      "[0]\tvalidation_0-aucpr:0.46773\n",
      "[1]\tvalidation_0-aucpr:0.55717\n",
      "[2]\tvalidation_0-aucpr:0.61451\n",
      "[3]\tvalidation_0-aucpr:0.66145\n",
      "[4]\tvalidation_0-aucpr:0.68464\n",
      "[5]\tvalidation_0-aucpr:0.69922\n",
      "[6]\tvalidation_0-aucpr:0.71360\n",
      "[7]\tvalidation_0-aucpr:0.71961\n",
      "[8]\tvalidation_0-aucpr:0.73289\n",
      "[9]\tvalidation_0-aucpr:0.74481\n",
      "[10]\tvalidation_0-aucpr:0.75180\n",
      "[11]\tvalidation_0-aucpr:0.75941\n",
      "[12]\tvalidation_0-aucpr:0.76391\n",
      "[13]\tvalidation_0-aucpr:0.76928\n",
      "[14]\tvalidation_0-aucpr:0.77490\n",
      "[15]\tvalidation_0-aucpr:0.77836\n",
      "[16]\tvalidation_0-aucpr:0.78549\n",
      "[17]\tvalidation_0-aucpr:0.78825\n",
      "[18]\tvalidation_0-aucpr:0.79358\n",
      "[19]\tvalidation_0-aucpr:0.79634\n",
      "[20]\tvalidation_0-aucpr:0.80440\n",
      "[21]\tvalidation_0-aucpr:0.80851\n",
      "[22]\tvalidation_0-aucpr:0.80952\n",
      "[23]\tvalidation_0-aucpr:0.81229\n",
      "[24]\tvalidation_0-aucpr:0.81417\n",
      "[25]\tvalidation_0-aucpr:0.81792\n",
      "[26]\tvalidation_0-aucpr:0.81822\n",
      "[27]\tvalidation_0-aucpr:0.81745\n",
      "[28]\tvalidation_0-aucpr:0.81830\n",
      "[29]\tvalidation_0-aucpr:0.81856\n",
      "[30]\tvalidation_0-aucpr:0.81822\n",
      "[31]\tvalidation_0-aucpr:0.81870\n",
      "[32]\tvalidation_0-aucpr:0.81876\n",
      "[33]\tvalidation_0-aucpr:0.82001\n",
      "[34]\tvalidation_0-aucpr:0.82144\n",
      "[35]\tvalidation_0-aucpr:0.82378\n",
      "[36]\tvalidation_0-aucpr:0.82512\n",
      "[37]\tvalidation_0-aucpr:0.82604\n",
      "[38]\tvalidation_0-aucpr:0.82692\n",
      "[39]\tvalidation_0-aucpr:0.82770\n",
      "[40]\tvalidation_0-aucpr:0.82782\n",
      "[41]\tvalidation_0-aucpr:0.82912\n",
      "[42]\tvalidation_0-aucpr:0.82944\n",
      "[43]\tvalidation_0-aucpr:0.82982\n",
      "[44]\tvalidation_0-aucpr:0.83042\n",
      "[45]\tvalidation_0-aucpr:0.83136\n",
      "[46]\tvalidation_0-aucpr:0.83230\n",
      "[47]\tvalidation_0-aucpr:0.83380\n",
      "[48]\tvalidation_0-aucpr:0.83335\n",
      "[49]\tvalidation_0-aucpr:0.83371\n",
      "[50]\tvalidation_0-aucpr:0.83421\n",
      "[51]\tvalidation_0-aucpr:0.83352\n",
      "[52]\tvalidation_0-aucpr:0.83335\n",
      "[53]\tvalidation_0-aucpr:0.83443\n",
      "[54]\tvalidation_0-aucpr:0.83460\n",
      "[55]\tvalidation_0-aucpr:0.83416\n",
      "[56]\tvalidation_0-aucpr:0.83461\n",
      "[57]\tvalidation_0-aucpr:0.83660\n",
      "[58]\tvalidation_0-aucpr:0.83673\n",
      "[59]\tvalidation_0-aucpr:0.83663\n",
      "[60]\tvalidation_0-aucpr:0.83729\n",
      "[61]\tvalidation_0-aucpr:0.83773\n",
      "[62]\tvalidation_0-aucpr:0.83764\n",
      "[63]\tvalidation_0-aucpr:0.83847\n",
      "[64]\tvalidation_0-aucpr:0.83804\n",
      "[65]\tvalidation_0-aucpr:0.83836\n",
      "[66]\tvalidation_0-aucpr:0.83835\n",
      "[67]\tvalidation_0-aucpr:0.83878\n",
      "[68]\tvalidation_0-aucpr:0.83954\n",
      "[69]\tvalidation_0-aucpr:0.83916\n",
      "[70]\tvalidation_0-aucpr:0.83891\n",
      "[71]\tvalidation_0-aucpr:0.83909\n",
      "[72]\tvalidation_0-aucpr:0.83937\n",
      "[73]\tvalidation_0-aucpr:0.83943\n",
      "[74]\tvalidation_0-aucpr:0.83925\n",
      "[75]\tvalidation_0-aucpr:0.83909\n",
      "[76]\tvalidation_0-aucpr:0.83989\n",
      "[77]\tvalidation_0-aucpr:0.84064\n",
      "[78]\tvalidation_0-aucpr:0.84136\n",
      "[79]\tvalidation_0-aucpr:0.84113\n",
      "[80]\tvalidation_0-aucpr:0.84157\n",
      "[81]\tvalidation_0-aucpr:0.84139\n",
      "[82]\tvalidation_0-aucpr:0.84089\n",
      "[83]\tvalidation_0-aucpr:0.84115\n",
      "[84]\tvalidation_0-aucpr:0.84242\n",
      "[85]\tvalidation_0-aucpr:0.84270\n",
      "[86]\tvalidation_0-aucpr:0.84257\n",
      "[87]\tvalidation_0-aucpr:0.84282\n",
      "[88]\tvalidation_0-aucpr:0.84242\n",
      "[89]\tvalidation_0-aucpr:0.84251\n",
      "[90]\tvalidation_0-aucpr:0.84303\n",
      "[91]\tvalidation_0-aucpr:0.84334\n",
      "[92]\tvalidation_0-aucpr:0.84376\n",
      "[93]\tvalidation_0-aucpr:0.84389\n",
      "[94]\tvalidation_0-aucpr:0.84389\n",
      "[95]\tvalidation_0-aucpr:0.84394\n",
      "[96]\tvalidation_0-aucpr:0.84394\n",
      "[97]\tvalidation_0-aucpr:0.84451\n",
      "[98]\tvalidation_0-aucpr:0.84458\n",
      "[99]\tvalidation_0-aucpr:0.84529\n"
     ]
    },
    {
     "data": {
      "text/plain": [
       "XGBClassifier(base_score=0.5, booster='gbtree', colsample_bylevel=1,\n",
       "              colsample_bynode=1, colsample_bytree=0.3, eval_metric='aucpr',\n",
       "              gamma=0.1, gpu_id=-1, importance_type='gain',\n",
       "              interaction_constraints='', learning_rate=0.1, max_delta_step=0,\n",
       "              max_depth=15, min_child_weight=5, missing=nan,\n",
       "              monotone_constraints='()', n_estimators=100, n_jobs=1, nthread=1,\n",
       "              num_parallel_tree=1, random_state=0, reg_alpha=0, reg_lambda=1,\n",
       "              scale_pos_weight=1, seed=0, silent=None, subsample=1,\n",
       "              tree_method='exact', use_label_encoder=False,\n",
       "              validate_parameters=1, ...)"
      ]
     },
     "execution_count": 7,
     "metadata": {},
     "output_type": "execute_result"
    }
   ],
   "source": [
    "classifier.fit(X_train, y_train, early_stopping_rounds=10, eval_set=[(X_test, y_test)])"
   ]
  },
  {
   "cell_type": "markdown",
   "id": "fda949d0",
   "metadata": {},
   "source": [
    "Make Predictions"
   ]
  },
  {
   "cell_type": "code",
   "execution_count": 8,
   "id": "12f30133",
   "metadata": {},
   "outputs": [],
   "source": [
    "y_pred = classifier.predict(X_test)"
   ]
  },
  {
   "cell_type": "markdown",
   "id": "0ae2e670",
   "metadata": {},
   "source": [
    "### Evaluation Metrics"
   ]
  },
  {
   "cell_type": "code",
   "execution_count": 9,
   "id": "ceff7a82",
   "metadata": {},
   "outputs": [
    {
     "name": "stdout",
     "output_type": "stream",
     "text": [
      "Test Accuracy:  0.9133510167992926\n"
     ]
    }
   ],
   "source": [
    "from sklearn.metrics import accuracy_score, precision_recall_fscore_support\n",
    "print(\"Test Accuracy: \", accuracy_score(y_pred, y_test))"
   ]
  },
  {
   "cell_type": "code",
   "execution_count": 15,
   "id": "8781fd2e",
   "metadata": {},
   "outputs": [
    {
     "name": "stdout",
     "output_type": "stream",
     "text": [
      "Cross Validation Mean Score:  0.8821962548281425\n"
     ]
    }
   ],
   "source": [
    "from sklearn.model_selection import cross_val_score\n",
    "\n",
    "score = cross_val_score(classifier, X, y_sex, cv=5)\n",
    "\n",
    "print(\"Cross Validation Mean Score: \", score.mean())"
   ]
  },
  {
   "cell_type": "code",
   "execution_count": 10,
   "id": "86595021",
   "metadata": {},
   "outputs": [
    {
     "name": "stdout",
     "output_type": "stream",
     "text": [
      "Precision:  [0.91038697 0.93288591]\n",
      "Recall:  [0.98893805 0.6123348 ]\n",
      "F-Score:  [0.94803818 0.7393617 ]\n",
      "Support:  [904 227]\n"
     ]
    }
   ],
   "source": [
    "precision, recall, fscore, support = precision_recall_fscore_support(y_test, y_pred)\n",
    "\n",
    "print(\"Precision: \", precision)\n",
    "print(\"Recall: \", recall)\n",
    "print(\"F-Score: \", fscore)\n",
    "print(\"Support: \", support)"
   ]
  },
  {
   "cell_type": "code",
   "execution_count": 11,
   "id": "dbc4e516",
   "metadata": {
    "scrolled": true
   },
   "outputs": [
    {
     "data": {
      "image/png": "[encoded data removed]",
      "text/plain": [
       "<Figure size 432x288 with 2 Axes>"
      ]
     },
     "metadata": {
      "needs_background": "light"
     },
     "output_type": "display_data"
    }
   ],
   "source": [
    "plot_confusion_matrix(classifier, X_test, y_test, values_format='d', display_labels=['Male', 'Female']);"
   ]
  },
  {
   "cell_type": "markdown",
   "id": "61839c5d",
   "metadata": {},
   "source": [
    "### Results\n",
    "\n",
    "Model Precision:\n",
    "\n",
    "- Out of 982 Male predictions, 91.0% were correctly predicted\n",
    "- Out of 149 Female predictions, 93.3% were correctly predicted\n",
    "\n",
    "Model Recall:\n",
    "\n",
    "- Out of 904 actual Male data, 98.9% were correctly predicted\n",
    "- Out of 227 actual Female data, 61.2% were correctly predicted"
   ]
  },
  {
   "cell_type": "markdown",
   "id": "5b4c2683",
   "metadata": {},
   "source": [
    "-\n",
    "-"
   ]
  },
  {
   "cell_type": "markdown",
   "id": "91de2a24",
   "metadata": {},
   "source": [
    "# Split Dataset for Age Prediction"
   ]
  },
  {
   "cell_type": "code",
   "execution_count": 12,
   "id": "c1dbd7d6",
   "metadata": {},
   "outputs": [],
   "source": [
    "Xtrain, Xtest, ytrain, ytest = train_test_split(X, y_age, random_state=42, stratify=y_age)"
   ]
  },
  {
   "cell_type": "markdown",
   "id": "645f3560",
   "metadata": {},
   "source": [
    "### Age Regressor Model"
   ]
  },
  {
   "cell_type": "code",
   "execution_count": 13,
   "id": "055cc6c1",
   "metadata": {},
   "outputs": [],
   "source": [
    "from xgboost import XGBRegressor\n",
    "\n",
    "regressor = XGBRegressor(base_score=0.5, booster='gbtree', colsample_bylevel=1,\n",
    "             colsample_bynode=1, colsample_bytree=0.3, gamma=0.3,\n",
    "             importance_type='gain', learning_rate=0.05, max_delta_step=0,\n",
    "             max_depth=12, min_child_weight=7, n_estimators=100,\n",
    "             n_jobs=1, nthread=None, objective='reg:linear', random_state=0,\n",
    "             reg_alpha=0, reg_lambda=1, scale_pos_weight=1, seed=42,\n",
    "             silent=None, subsample=1, verbosity=0)"
   ]
  },
  {
   "cell_type": "markdown",
   "id": "7503e3eb",
   "metadata": {},
   "source": [
    "Use Mean Absolute Error as Evaluation Metric"
   ]
  },
  {
   "cell_type": "code",
   "execution_count": 14,
   "id": "6c59f2dc",
   "metadata": {},
   "outputs": [
    {
     "name": "stdout",
     "output_type": "stream",
     "text": [
      "[0]\tvalidation_0-mae:50.26297\n",
      "[1]\tvalidation_0-mae:47.82002\n",
      "[2]\tvalidation_0-mae:45.50108\n",
      "[3]\tvalidation_0-mae:43.29748\n",
      "[4]\tvalidation_0-mae:41.24695\n",
      "[5]\tvalidation_0-mae:39.28884\n",
      "[6]\tvalidation_0-mae:37.40880\n",
      "[7]\tvalidation_0-mae:35.61849\n",
      "[8]\tvalidation_0-mae:33.93438\n",
      "[9]\tvalidation_0-mae:32.33742\n",
      "[10]\tvalidation_0-mae:30.82245\n",
      "[11]\tvalidation_0-mae:29.38681\n",
      "[12]\tvalidation_0-mae:28.02924\n",
      "[13]\tvalidation_0-mae:26.75335\n",
      "[14]\tvalidation_0-mae:25.60268\n",
      "[15]\tvalidation_0-mae:24.49314\n",
      "[16]\tvalidation_0-mae:23.44136\n",
      "[17]\tvalidation_0-mae:22.47683\n",
      "[18]\tvalidation_0-mae:21.60918\n",
      "[19]\tvalidation_0-mae:20.78736\n",
      "[20]\tvalidation_0-mae:20.02108\n",
      "[21]\tvalidation_0-mae:19.33820\n",
      "[22]\tvalidation_0-mae:18.65720\n",
      "[23]\tvalidation_0-mae:18.05684\n",
      "[24]\tvalidation_0-mae:17.49698\n",
      "[25]\tvalidation_0-mae:16.97542\n",
      "[26]\tvalidation_0-mae:16.50601\n",
      "[27]\tvalidation_0-mae:16.05544\n",
      "[28]\tvalidation_0-mae:15.65171\n",
      "[29]\tvalidation_0-mae:15.26558\n",
      "[30]\tvalidation_0-mae:14.93124\n",
      "[31]\tvalidation_0-mae:14.59938\n",
      "[32]\tvalidation_0-mae:14.30084\n",
      "[33]\tvalidation_0-mae:14.03290\n",
      "[34]\tvalidation_0-mae:13.77171\n",
      "[35]\tvalidation_0-mae:13.54857\n",
      "[36]\tvalidation_0-mae:13.31758\n",
      "[37]\tvalidation_0-mae:13.13288\n",
      "[38]\tvalidation_0-mae:12.96063\n",
      "[39]\tvalidation_0-mae:12.81107\n",
      "[40]\tvalidation_0-mae:12.67641\n",
      "[41]\tvalidation_0-mae:12.54661\n",
      "[42]\tvalidation_0-mae:12.44213\n",
      "[43]\tvalidation_0-mae:12.34719\n",
      "[44]\tvalidation_0-mae:12.26721\n",
      "[45]\tvalidation_0-mae:12.18740\n",
      "[46]\tvalidation_0-mae:12.11547\n",
      "[47]\tvalidation_0-mae:12.05598\n",
      "[48]\tvalidation_0-mae:11.99759\n",
      "[49]\tvalidation_0-mae:11.94640\n",
      "[50]\tvalidation_0-mae:11.89481\n",
      "[51]\tvalidation_0-mae:11.84273\n",
      "[52]\tvalidation_0-mae:11.80401\n",
      "[53]\tvalidation_0-mae:11.75848\n",
      "[54]\tvalidation_0-mae:11.72025\n",
      "[55]\tvalidation_0-mae:11.68484\n",
      "[56]\tvalidation_0-mae:11.66436\n",
      "[57]\tvalidation_0-mae:11.63801\n",
      "[58]\tvalidation_0-mae:11.61304\n",
      "[59]\tvalidation_0-mae:11.58635\n",
      "[60]\tvalidation_0-mae:11.56112\n",
      "[61]\tvalidation_0-mae:11.54292\n",
      "[62]\tvalidation_0-mae:11.52549\n",
      "[63]\tvalidation_0-mae:11.50981\n",
      "[64]\tvalidation_0-mae:11.49624\n",
      "[65]\tvalidation_0-mae:11.48295\n",
      "[66]\tvalidation_0-mae:11.47513\n",
      "[67]\tvalidation_0-mae:11.46414\n",
      "[68]\tvalidation_0-mae:11.45514\n",
      "[69]\tvalidation_0-mae:11.44416\n",
      "[70]\tvalidation_0-mae:11.43741\n",
      "[71]\tvalidation_0-mae:11.43160\n",
      "[72]\tvalidation_0-mae:11.42457\n",
      "[73]\tvalidation_0-mae:11.41552\n",
      "[74]\tvalidation_0-mae:11.40801\n",
      "[75]\tvalidation_0-mae:11.40333\n",
      "[76]\tvalidation_0-mae:11.39953\n",
      "[77]\tvalidation_0-mae:11.39356\n",
      "[78]\tvalidation_0-mae:11.39132\n",
      "[79]\tvalidation_0-mae:11.38784\n",
      "[80]\tvalidation_0-mae:11.38608\n",
      "[81]\tvalidation_0-mae:11.38336\n",
      "[82]\tvalidation_0-mae:11.37879\n",
      "[83]\tvalidation_0-mae:11.37640\n",
      "[84]\tvalidation_0-mae:11.37375\n",
      "[85]\tvalidation_0-mae:11.37318\n",
      "[86]\tvalidation_0-mae:11.36849\n",
      "[87]\tvalidation_0-mae:11.36571\n",
      "[88]\tvalidation_0-mae:11.36437\n",
      "[89]\tvalidation_0-mae:11.36342\n",
      "[90]\tvalidation_0-mae:11.36117\n",
      "[91]\tvalidation_0-mae:11.36052\n",
      "[92]\tvalidation_0-mae:11.35950\n",
      "[93]\tvalidation_0-mae:11.35728\n",
      "[94]\tvalidation_0-mae:11.35566\n",
      "[95]\tvalidation_0-mae:11.35419\n",
      "[96]\tvalidation_0-mae:11.35315\n",
      "[97]\tvalidation_0-mae:11.35277\n",
      "[98]\tvalidation_0-mae:11.35197\n",
      "[99]\tvalidation_0-mae:11.35082\n"
     ]
    },
    {
     "data": {
      "text/plain": [
       "XGBRegressor(base_score=0.5, booster='gbtree', colsample_bylevel=1,\n",
       "             colsample_bynode=1, colsample_bytree=0.3, gamma=0.3, gpu_id=-1,\n",
       "             importance_type='gain', interaction_constraints='',\n",
       "             learning_rate=0.05, max_delta_step=0, max_depth=12,\n",
       "             min_child_weight=7, missing=nan, monotone_constraints='()',\n",
       "             n_estimators=100, n_jobs=1, nthread=1, num_parallel_tree=1,\n",
       "             objective='reg:linear', random_state=0, reg_alpha=0, reg_lambda=1,\n",
       "             scale_pos_weight=1, seed=42, silent=None, subsample=1,\n",
       "             tree_method='exact', validate_parameters=1, verbosity=0)"
      ]
     },
     "execution_count": 14,
     "metadata": {},
     "output_type": "execute_result"
    }
   ],
   "source": [
    "regressor.fit(Xtrain, ytrain, early_stopping_rounds=10, eval_metric='mae', eval_set=[(Xtest, ytest)])"
   ]
  },
  {
   "cell_type": "markdown",
   "id": "ecaf560e",
   "metadata": {},
   "source": [
    "Make Predictions"
   ]
  },
  {
   "cell_type": "code",
   "execution_count": 15,
   "id": "3d330f00",
   "metadata": {},
   "outputs": [],
   "source": [
    "ypred = regressor.predict(Xtest)"
   ]
  },
  {
   "cell_type": "markdown",
   "id": "598e77f5",
   "metadata": {},
   "source": [
    "### Evaluation Metrics"
   ]
  },
  {
   "cell_type": "code",
   "execution_count": 18,
   "id": "a1d738ba",
   "metadata": {},
   "outputs": [
    {
     "name": "stdout",
     "output_type": "stream",
     "text": [
      "Mean Absolute Error:  11.35081652599979\n",
      "Mean Squared Error 200.62649705166396\n",
      "Root MSE 14.164268320378005\n",
      "RMS Log Error 2.650722477898099\n",
      "R Squared Error:  0.17200870885366737\n"
     ]
    }
   ],
   "source": [
    "from sklearn.metrics import mean_absolute_error, mean_squared_error, r2_score\n",
    "\n",
    "print(\"Mean Absolute Error: \",mean_absolute_error(ytest,ypred))\n",
    "print(\"Mean Squared Error\",mean_squared_error(ytest,ypred))\n",
    "print(\"Root MSE\",np.sqrt(mean_squared_error(ytest,ypred)))\n",
    "print(\"RMS Log Error\",np.log(np.sqrt(mean_squared_error(ytest,ypred))))\n",
    "\n",
    "r2 = r2_score(ytest,ypred)\n",
    "print(\"R Squared Error: \", r2)"
   ]
  },
  {
   "cell_type": "markdown",
   "id": "688a4611",
   "metadata": {},
   "source": [
    "-\n",
    "-"
   ]
  },
  {
   "cell_type": "markdown",
   "id": "192803a8",
   "metadata": {},
   "source": [
    "-\n",
    "-"
   ]
  },
  {
   "cell_type": "markdown",
   "id": "a3caa008",
   "metadata": {},
   "source": [
    "-\n",
    "-"
   ]
  },
  {
   "cell_type": "markdown",
   "id": "291c0b3e",
   "metadata": {},
   "source": [
    "# Classification and Regression using Support Vector"
   ]
  },
  {
   "cell_type": "code",
   "execution_count": 19,
   "id": "a7ff7b81",
   "metadata": {},
   "outputs": [],
   "source": [
    "from sklearn import svm"
   ]
  },
  {
   "cell_type": "markdown",
   "id": "7402e54f",
   "metadata": {},
   "source": [
    "#### SVM Model"
   ]
  },
  {
   "cell_type": "code",
   "execution_count": 20,
   "id": "0a41531e",
   "metadata": {},
   "outputs": [
    {
     "name": "stdout",
     "output_type": "stream",
     "text": [
      "Train Accuracy:  0.9086354258768052\n",
      "Test Accuracy:  0.8885941644562334\n"
     ]
    }
   ],
   "source": [
    "model = svm.SVC(kernel='poly', C=1, degree=2, coef0=0.3)\n",
    "model.fit(X_train, np.ravel(y_train))\n",
    "y_pred = model.predict(X_test)\n",
    "\n",
    "x_pred = model.predict(X_train)\n",
    "print(\"Train Accuracy: \", accuracy_score(x_pred, y_train))\n",
    "\n",
    "y_pred = model.predict(X_test)\n",
    "print(\"Test Accuracy: \", accuracy_score(y_pred, y_test))"
   ]
  },
  {
   "cell_type": "code",
   "execution_count": 29,
   "id": "f939214c",
   "metadata": {},
   "outputs": [
    {
     "name": "stdout",
     "output_type": "stream",
     "text": [
      "Cross Validation Mean Score:  0.8821962548281425\n"
     ]
    }
   ],
   "source": [
    "from sklearn.model_selection import cross_val_score\n",
    "\n",
    "score = cross_val_score(classifier, X, y_sex, cv=5)\n",
    "\n",
    "print(\"Cross Validation Mean Score: \", score.mean())"
   ]
  },
  {
   "cell_type": "markdown",
   "id": "35a189a5",
   "metadata": {},
   "source": [
    "#### Metrics"
   ]
  },
  {
   "cell_type": "code",
   "execution_count": 21,
   "id": "1dbf9d6f",
   "metadata": {},
   "outputs": [
    {
     "name": "stdout",
     "output_type": "stream",
     "text": [
      "Precision:  [0.90605428 0.79190751]\n",
      "Recall:  [0.96017699 0.60352423]\n",
      "F-Score:  [0.93233083 0.685     ]\n",
      "Support:  [904 227]\n"
     ]
    }
   ],
   "source": [
    "precision, recall, fscore, support = precision_recall_fscore_support(y_test, y_pred)\n",
    "\n",
    "print(\"Precision: \", precision)\n",
    "print(\"Recall: \", recall)\n",
    "print(\"F-Score: \", fscore)\n",
    "print(\"Support: \", support)"
   ]
  },
  {
   "cell_type": "code",
   "execution_count": 22,
   "id": "6d35af51",
   "metadata": {},
   "outputs": [
    {
     "data": {
      "image/png": "[encoded data removed]",
      "text/plain": [
       "<Figure size 432x288 with 2 Axes>"
      ]
     },
     "metadata": {
      "needs_background": "light"
     },
     "output_type": "display_data"
    }
   ],
   "source": [
    "plot_confusion_matrix(classifier, X_test, y_test, values_format='d', display_labels=['Male', 'Female']);"
   ]
  },
  {
   "cell_type": "markdown",
   "id": "cb43334a",
   "metadata": {},
   "source": [
    "## SVM Results\n",
    "\n",
    "Model Accuracy:\n",
    "- 82.6% accuracy on Test data\n",
    "- 83.1% accuracy on Cross Validation (average)\n",
    "\n",
    "Model Precision:\n",
    "- Out of 982 Male predictions, 90.6% were correctly predicted\n",
    "- Out of 149 Female predictions, 79.2% were correctly predicted\n",
    "\n",
    "Model Recall:\n",
    "- Out of 904 actual Male data, 96.0% were correctly predicted\n",
    "- Out of 227 actual Female data, 60.4% were correctly predicted"
   ]
  },
  {
   "cell_type": "markdown",
   "id": "3dd5c673",
   "metadata": {},
   "source": [
    "-\n",
    "-"
   ]
  },
  {
   "cell_type": "markdown",
   "id": "a87d1bea",
   "metadata": {},
   "source": [
    "#### SVR Model"
   ]
  },
  {
   "cell_type": "code",
   "execution_count": 24,
   "id": "df76e19c",
   "metadata": {},
   "outputs": [],
   "source": [
    "from sklearn.svm import SVR"
   ]
  },
  {
   "cell_type": "code",
   "execution_count": 25,
   "id": "0526741a",
   "metadata": {},
   "outputs": [
    {
     "data": {
      "text/plain": [
       "SVR()"
      ]
     },
     "execution_count": 25,
     "metadata": {},
     "output_type": "execute_result"
    }
   ],
   "source": [
    "regressor = SVR(kernel = 'rbf')\n",
    "regressor.fit(Xtrain, ytrain)"
   ]
  },
  {
   "cell_type": "code",
   "execution_count": 26,
   "id": "15cf2c36",
   "metadata": {},
   "outputs": [],
   "source": [
    "ypred = regressor.predict(Xtest)"
   ]
  },
  {
   "cell_type": "markdown",
   "id": "1abedac8",
   "metadata": {},
   "source": [
    "## Metrics"
   ]
  },
  {
   "cell_type": "code",
   "execution_count": 27,
   "id": "f397e8f0",
   "metadata": {},
   "outputs": [
    {
     "name": "stdout",
     "output_type": "stream",
     "text": [
      "Mean Absolute Error:  11.98764066534108\n",
      "Mean Squared Error 224.08121751132998\n",
      "Root MSE 14.9693425878136\n",
      "RMS Log Error 2.7060042821575188\n",
      "R Squared Error:  0.0752104067237439\n"
     ]
    }
   ],
   "source": [
    "print(\"Mean Absolute Error: \",mean_absolute_error(ytest,ypred))\n",
    "print(\"Mean Squared Error\",mean_squared_error(ytest,ypred))\n",
    "print(\"Root MSE\",np.sqrt(mean_squared_error(ytest,ypred)))\n",
    "print(\"RMS Log Error\",np.log(np.sqrt(mean_squared_error(ytest,ypred))))\n",
    "\n",
    "r2 = r2_score(ytest,ypred)\n",
    "print(\"R Squared Error: \", r2)"
   ]
  },
  {
   "cell_type": "markdown",
   "id": "bbbdfa79",
   "metadata": {},
   "source": [
    "-\n",
    "-\n",
    "-\n",
    "-\n",
    "-\n",
    "-\n",
    "-"
   ]
  },
  {
   "cell_type": "markdown",
   "id": "d7435534",
   "metadata": {},
   "source": [
    "# Final Results"
   ]
  },
  {
   "cell_type": "markdown",
   "id": "20c23315",
   "metadata": {},
   "source": [
    "-\n",
    "-"
   ]
  },
  {
   "cell_type": "markdown",
   "id": "9b4fec69",
   "metadata": {},
   "source": [
    "|Gender Prediction|\n",
    "|---|\n",
    "||\n",
    "\n",
    "|||SVM||XGBoost|\n",
    "| --- || --- || --- |\n",
    "|Accuracy||88.9||91.3|\n",
    "|Cross-Val Score||85.0||88.2|\n",
    "\n",
    "|XGB Metrics||Male||Female|\n",
    "|----||----||----|\n",
    "|Precision||91.0||93.3|\n",
    "|Recall||98.9||61.2|\n",
    "|F1 Score||94.8||73.9|\n",
    "\n",
    "|SVM Metrics||Male||Female|\n",
    "|----||----||----|\n",
    "|Precision||90.6||79.2|\n",
    "|Recall||96.0||60.4|\n",
    "|F1 Score||93.2||68.5|\n"
   ]
  },
  {
   "cell_type": "markdown",
   "id": "236a0a65",
   "metadata": {},
   "source": [
    "-\n",
    "-"
   ]
  },
  {
   "cell_type": "markdown",
   "id": "a67134d1",
   "metadata": {},
   "source": [
    "|Age Prediction|\n",
    "|---|\n",
    "||\n",
    "\n",
    "|Evaluation Metric||SVM||XGBoost|\n",
    "| --- || --- || --- |\n",
    "|Mean Absolute Error||11.99||11.35|\n",
    "|Mean Squared Error||224.08||200.63|\n",
    "|Root Mean Squared Error||14.97||14.16|\n",
    "|Root Mean Squared Log Error||2.71||2.65|\n",
    "|R Squared Error||0.08||0.17|"
   ]
  },
  {
   "cell_type": "code",
   "execution_count": null,
   "id": "7f2e2aae",
   "metadata": {},
   "outputs": [],
   "source": []
  }
 ],
 "metadata": {
  "kernelspec": {
   "display_name": "Python 3",
   "language": "python",
   "name": "python3"
  },
  "language_info": {
   "codemirror_mode": {
    "name": "ipython",
    "version": 3
   },
   "file_extension": ".py",
   "mimetype": "text/x-python",
   "name": "python",
   "nbconvert_exporter": "python",
   "pygments_lexer": "ipython3",
   "version": "3.8.8"
  }
 },
 "nbformat": 4,
 "nbformat_minor": 5
}
